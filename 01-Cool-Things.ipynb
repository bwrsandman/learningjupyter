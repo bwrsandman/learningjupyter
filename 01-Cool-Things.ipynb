{
 "cells": [
  {
   "cell_type": "markdown",
   "metadata": {
    "slideshow": {
     "slide_type": "slide"
    }
   },
   "source": [
    "# Cool things"
   ]
  },
  {
   "cell_type": "markdown",
   "metadata": {
    "slideshow": {
     "slide_type": "slide"
    }
   },
   "source": [
    "## Running console commands\n",
    "\n",
    "In jupyter, the bang (`!`) symbolizes an escape into the underlying console (bash, zsh, powershell, cmd).\n",
    "\n",
    "You can use this to easily grab the stdout of a commandline parameter and use it in a variable."
   ]
  },
  {
   "cell_type": "code",
   "execution_count": null,
   "metadata": {
    "slideshow": {
     "slide_type": "fragment"
    }
   },
   "outputs": [],
   "source": [
    "!ls"
   ]
  },
  {
   "cell_type": "code",
   "execution_count": null,
   "metadata": {
    "slideshow": {
     "slide_type": "fragment"
    }
   },
   "outputs": [],
   "source": [
    "!uname -a\n",
    "!whoami\n",
    "!ls /dev\n",
    "!lspci"
   ]
  },
  {
   "cell_type": "code",
   "execution_count": null,
   "metadata": {
    "slideshow": {
     "slide_type": "fragment"
    }
   },
   "outputs": [],
   "source": [
    "files = !ls\n",
    "[\"%s.bak\" % f for f in files]"
   ]
  },
  {
   "cell_type": "markdown",
   "metadata": {
    "slideshow": {
     "slide_type": "slide"
    }
   },
   "source": [
    "## Latex\n",
    "\n",
    "Jupyter formats latex.\n",
    "\n",
    "$\n",
    "\\begin{equation}\n",
    "  x = a_0 + \\cfrac{1}{a_1 \n",
    "          + \\cfrac{1}{a_2 \n",
    "          + \\cfrac{1}{a_3 + \\cfrac{1}{a_4} } } }\n",
    "\\end{equation}\n",
    "$"
   ]
  },
  {
   "cell_type": "markdown",
   "metadata": {
    "slideshow": {
     "slide_type": "slide"
    }
   },
   "source": [
    "## JupyterLab\n",
    "\n",
    "Jupyterlab is the future UI for jupyter.\n",
    "\n",
    "On binder, it is included by default and can be accessed by replacing `tree` in the url by `lab`."
   ]
  },
  {
   "cell_type": "markdown",
   "metadata": {
    "slideshow": {
     "slide_type": "slide"
    }
   },
   "source": [
    "## Save as feature\n",
    "\n",
    "You can download a notebook as many formats including source code format, html, latex, pdf."
   ]
  },
  {
   "cell_type": "markdown",
   "metadata": {
    "slideshow": {
     "slide_type": "subslide"
    }
   },
   "source": [
    "## Convert to presentation\n",
    "\n",
    "You can use a notebook for presentations and keynotes."
   ]
  },
  {
   "cell_type": "markdown",
   "metadata": {
    "slideshow": {
     "slide_type": "notes"
    }
   },
   "source": [
    "Edit slides by going to View|Cell Toolbar|Slideshow"
   ]
  },
  {
   "cell_type": "code",
   "execution_count": null,
   "metadata": {
    "slideshow": {
     "slide_type": "fragment"
    }
   },
   "outputs": [],
   "source": [
    "!jupyter nbconvert 01-Cool-Things.ipynb --to slides # --reveal-prefix=reveal.js --post serve"
   ]
  },
  {
   "cell_type": "markdown",
   "metadata": {
    "slideshow": {
     "slide_type": "subslide"
    }
   },
   "source": [
    "## Examples in the wild\n",
    "\n",
    "* [A beginner python course I made for my friends](https://hub.mybinder.org/user/bwrsandman-learningpython-6vqa2dhl/tree)\n",
    "* [Coursea Machine Learning Ex1](https://github.com/jdwittenauer/ipython-notebooks/blob/master/notebooks/ml/ML-Exercise1.ipynb)\n",
    "* [geojson-extension](https://mybinder.org/v2/gh/binder-examples/jupyterlab/master?urlpath=lab)\n",
    "* [LIGO black hole detection](https://losc.ligo.org/s/events/GW150914/LOSC_Event_tutorial_GW150914.html)\n",
    "* [An open RNA-Seq data analysis pipeline tutorial with an example of reprocessing data from a recent Zika virus study](http://nbviewer.jupyter.org/github/maayanlab/Zika-RNAseq-Pipeline/blob/master/Zika.ipynb)\n",
    "* [Python for Signal Processing](http://nbviewer.jupyter.org/github/unpingco/Python-for-Signal-Processing/blob/master/Compressive_Sampling.ipynb)\n",
    "* [Timeseries Classification: KNN & DTW](http://nbviewer.jupyter.org/github/markdregan/K-Nearest-Neighbors-with-Dynamic-Time-Warping/blob/master/K_Nearest_Neighbor_Dynamic_Time_Warping.ipynb)\n",
    "* [OpenCV Detecting Faces](https://github.com/handee/opencv-gettingstarted/blob/master/5%20detecting%20faces%20and%20other%20things.ipynb)\n",
    "* [Analysis of the Gaza-Israel 2012 crisis](http://nbviewer.jupyter.org/gist/darribas/4121857)\n",
    "* [Extracting and manipulating article metadata (RDF) from Het Laatste Nieuws](http://nbviewer.jupyter.org/url/mhermans.net/files/tmp/demo_rdf_HLN.ipynb)\n",
    "* [Map of US Airports (Javascript)](https://nbviewer.jupyter.org/gist/Fil/efb1c9f3f0a9092c420dfe4cef8def96)\n",
    "* [Blogging with the IPython Notebook](http://nbviewer.jupyter.org/github/fperez/blog/blob/master/120907-Blogging%20with%20the%20IPython%20Notebook.ipynb)\n",
    "* [XKCD-style graphs](http://nbviewer.jupyter.org/url/jakevdp.github.com/downloads/notebooks/XKCD_plots.ipynb)"
   ]
  }
 ],
 "metadata": {
  "kernelspec": {
   "display_name": "Python 3",
   "language": "python",
   "name": "python3"
  },
  "language_info": {
   "codemirror_mode": {
    "name": "ipython",
    "version": 3
   },
   "file_extension": ".py",
   "mimetype": "text/x-python",
   "name": "python",
   "nbconvert_exporter": "python",
   "pygments_lexer": "ipython3",
   "version": "3.6.3"
  }
 },
 "nbformat": 4,
 "nbformat_minor": 2
}
